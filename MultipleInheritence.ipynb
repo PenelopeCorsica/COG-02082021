{
  "nbformat": 4,
  "nbformat_minor": 0,
  "metadata": {
    "colab": {
      "name": "MultipleInheritence.ipynb",
      "provenance": [],
      "collapsed_sections": [],
      "authorship_tag": "ABX9TyPp3axUAlGDEv7lmkWW3leX",
      "include_colab_link": true
    },
    "kernelspec": {
      "name": "python3",
      "display_name": "Python 3"
    },
    "language_info": {
      "name": "python"
    }
  },
  "cells": [
    {
      "cell_type": "markdown",
      "metadata": {
        "id": "view-in-github",
        "colab_type": "text"
      },
      "source": [
        "<a href=\"https://colab.research.google.com/github/a-forty-two/COG-02082021/blob/main/MultipleInheritence.ipynb\" target=\"_parent\"><img src=\"https://colab.research.google.com/assets/colab-badge.svg\" alt=\"Open In Colab\"/></a>"
      ]
    },
    {
      "cell_type": "markdown",
      "metadata": {
        "id": "J8vqqFBg5Qs1"
      },
      "source": [
        "MULTIPLE INHERITENCE \n",
        "\n",
        "ability to derive from multiple base classes"
      ]
    },
    {
      "cell_type": "code",
      "metadata": {
        "id": "QwfDUyYc5L-F"
      },
      "source": [
        "class Employee:\n",
        "  def __init__(self , id, name):\n",
        "    self.id = id\n",
        "    self.name = name\n",
        "\n",
        "class PayrollSystem:\n",
        "  def calculate_payroll(self,employees):\n",
        "    print(\"Calculating the payroll\")\n",
        "    for employee in employees:\n",
        "      print(f'Payroll for :{employee.id} - {employee.name}')\n",
        "      print(f'Check amount:{employee.calculate_payroll()}')\n",
        "      print('')\n",
        "class SalaryEmployee(Employee):\n",
        "  def __init__(self, id,name, weekly_salary):\n",
        "    super().__init__(id,name)\n",
        "    self.weekly_salary= weekly_salary\n",
        "\n",
        "  def calculate_payroll(self):\n",
        "    return self.weekly_salary\n",
        "\n",
        "class HourlyEmployee(Employee):\n",
        "  def __init__(self, id,name, hours_worked,hour_rate):\n",
        "    super().__init__(id,name)\n",
        "    self.hours_worked= hours_worked\n",
        "    self.hour_rate= hour_rate\n",
        "\n",
        "  def calculate_payroll(self):\n",
        "    return self.hours_worked* self.hour_rate\n",
        "\n",
        "class CommissionEmployee(SalaryEmployee):\n",
        "  def __init__(self, id,name, weekly_salary,commission):\n",
        "    super().__init__(id,name,weekly_salary)\n",
        "    self.commission= commission\n",
        "\n",
        "  def calculate_payroll(self):\n",
        "    fixed = super().calculate_payroll()\n",
        "    return fixed + self.commission\n",
        "\n",
        "class Manager(SalaryEmployee):\n",
        "  def work(self,hours):\n",
        "    print(f'{self.name} spends most of the {hours} hours  managing the employees and sprints')\n",
        "\n",
        "\n",
        "class Secretary(SalaryEmployee):\n",
        "  def work(self,hours):\n",
        "    print(f'{self.name} spends  {hours} hours  answering personal phonecalls')\n",
        "\n",
        "\n",
        "class SalesPerson(CommissionEmployee):\n",
        "  def work(self,hours):\n",
        "    print(f'{self.name} spends {hours} hours  on company phone for making sales')\n",
        "\n",
        "class FactoryWorker(HourlyEmployee):\n",
        "  def work(self,hours):\n",
        "    print(f'{self.name} works hard  for {hours} hours and still paid the least')\n",
        "\n",
        "class ProductivitySystem:\n",
        "  def track(self,employees, hours):\n",
        "    print(\"Tracking the Employee Productivity\")\n",
        "    for employee in employees:\n",
        "      employee.work(hours)\n",
        "    print('')"
      ],
      "execution_count": 2,
      "outputs": []
    },
    {
      "cell_type": "code",
      "metadata": {
        "colab": {
          "base_uri": "https://localhost:8080/",
          "height": 377
        },
        "id": "YFqouQl87_Rr",
        "outputId": "bd3c0535-d80a-4ab2-f1ac-4b918c6bec2b"
      },
      "source": [
        "class TemporarySecretary(HourlyEmployee, Secretary):\n",
        "  pass\n",
        "\n",
        "manager = Manager(1,'shantanu',3000)\n",
        "secretary = Secretary(2,'Jojo',1500)\n",
        "sales_person = SalesPerson(3,'Ashoka',900,250)\n",
        "factory_worker = FactoryWorker(4,'Bheema',40,20)\n",
        "temporary_secretary = TemporarySecretary(5,'Juno',40,9)\n",
        "\n",
        "employees=[\n",
        "           manager,\n",
        "           secretary,\n",
        "           sales_person,\n",
        "           factory_worker,\n",
        "           temporary_secretary\n",
        "]\n",
        "\n",
        "productivity_system = ProductivitySystem()\n",
        "productivity_system.track(employees,40)\n",
        "payroll_system= PayrollSystem()\n",
        "payroll_system.calculate_payroll(employees)"
      ],
      "execution_count": 8,
      "outputs": [
        {
          "output_type": "error",
          "ename": "TypeError",
          "evalue": "ignored",
          "traceback": [
            "\u001b[0;31m---------------------------------------------------------------------------\u001b[0m",
            "\u001b[0;31mTypeError\u001b[0m                                 Traceback (most recent call last)",
            "\u001b[0;32m<ipython-input-8-dc5697e66cd4>\u001b[0m in \u001b[0;36m<module>\u001b[0;34m()\u001b[0m\n\u001b[1;32m      6\u001b[0m \u001b[0msales_person\u001b[0m \u001b[0;34m=\u001b[0m \u001b[0mSalesPerson\u001b[0m\u001b[0;34m(\u001b[0m\u001b[0;36m3\u001b[0m\u001b[0;34m,\u001b[0m\u001b[0;34m'Ashoka'\u001b[0m\u001b[0;34m,\u001b[0m\u001b[0;36m900\u001b[0m\u001b[0;34m,\u001b[0m\u001b[0;36m250\u001b[0m\u001b[0;34m)\u001b[0m\u001b[0;34m\u001b[0m\u001b[0;34m\u001b[0m\u001b[0m\n\u001b[1;32m      7\u001b[0m \u001b[0mfactory_worker\u001b[0m \u001b[0;34m=\u001b[0m \u001b[0mFactoryWorker\u001b[0m\u001b[0;34m(\u001b[0m\u001b[0;36m4\u001b[0m\u001b[0;34m,\u001b[0m\u001b[0;34m'Bheema'\u001b[0m\u001b[0;34m,\u001b[0m\u001b[0;36m40\u001b[0m\u001b[0;34m,\u001b[0m\u001b[0;36m20\u001b[0m\u001b[0;34m)\u001b[0m\u001b[0;34m\u001b[0m\u001b[0;34m\u001b[0m\u001b[0m\n\u001b[0;32m----> 8\u001b[0;31m \u001b[0mtemporary_secretary\u001b[0m \u001b[0;34m=\u001b[0m \u001b[0mTemporarySecretary\u001b[0m\u001b[0;34m(\u001b[0m\u001b[0;36m5\u001b[0m\u001b[0;34m,\u001b[0m\u001b[0;34m'Juno'\u001b[0m\u001b[0;34m,\u001b[0m\u001b[0;36m40\u001b[0m\u001b[0;34m,\u001b[0m\u001b[0;36m9\u001b[0m\u001b[0;34m)\u001b[0m\u001b[0;34m\u001b[0m\u001b[0;34m\u001b[0m\u001b[0m\n\u001b[0m\u001b[1;32m      9\u001b[0m \u001b[0;34m\u001b[0m\u001b[0m\n\u001b[1;32m     10\u001b[0m employees=[\n",
            "\u001b[0;32m<ipython-input-2-718024ec0ac0>\u001b[0m in \u001b[0;36m__init__\u001b[0;34m(self, id, name, hours_worked, hour_rate)\u001b[0m\n\u001b[1;32m     21\u001b[0m \u001b[0;32mclass\u001b[0m \u001b[0mHourlyEmployee\u001b[0m\u001b[0;34m(\u001b[0m\u001b[0mEmployee\u001b[0m\u001b[0;34m)\u001b[0m\u001b[0;34m:\u001b[0m\u001b[0;34m\u001b[0m\u001b[0;34m\u001b[0m\u001b[0m\n\u001b[1;32m     22\u001b[0m   \u001b[0;32mdef\u001b[0m \u001b[0m__init__\u001b[0m\u001b[0;34m(\u001b[0m\u001b[0mself\u001b[0m\u001b[0;34m,\u001b[0m \u001b[0mid\u001b[0m\u001b[0;34m,\u001b[0m\u001b[0mname\u001b[0m\u001b[0;34m,\u001b[0m \u001b[0mhours_worked\u001b[0m\u001b[0;34m,\u001b[0m\u001b[0mhour_rate\u001b[0m\u001b[0;34m)\u001b[0m\u001b[0;34m:\u001b[0m\u001b[0;34m\u001b[0m\u001b[0;34m\u001b[0m\u001b[0m\n\u001b[0;32m---> 23\u001b[0;31m     \u001b[0msuper\u001b[0m\u001b[0;34m(\u001b[0m\u001b[0;34m)\u001b[0m\u001b[0;34m.\u001b[0m\u001b[0m__init__\u001b[0m\u001b[0;34m(\u001b[0m\u001b[0mid\u001b[0m\u001b[0;34m,\u001b[0m\u001b[0mname\u001b[0m\u001b[0;34m)\u001b[0m\u001b[0;34m\u001b[0m\u001b[0;34m\u001b[0m\u001b[0m\n\u001b[0m\u001b[1;32m     24\u001b[0m     \u001b[0mself\u001b[0m\u001b[0;34m.\u001b[0m\u001b[0mhours_worked\u001b[0m\u001b[0;34m=\u001b[0m \u001b[0mhours_worked\u001b[0m\u001b[0;34m\u001b[0m\u001b[0;34m\u001b[0m\u001b[0m\n\u001b[1;32m     25\u001b[0m     \u001b[0mself\u001b[0m\u001b[0;34m.\u001b[0m\u001b[0mhour_rate\u001b[0m\u001b[0;34m=\u001b[0m \u001b[0mhour_rate\u001b[0m\u001b[0;34m\u001b[0m\u001b[0;34m\u001b[0m\u001b[0m\n",
            "\u001b[0;31mTypeError\u001b[0m: __init__() missing 1 required positional argument: 'weekly_salary'"
          ]
        }
      ]
    },
    {
      "cell_type": "markdown",
      "metadata": {
        "id": "RjZX1u7P8uuP"
      },
      "source": [
        "METHOD RESOLUTION ORDER\n",
        "\n",
        "Every class we have in python, MRO will be used to find that specific class. Even if trying with super()\n",
        "\n",
        "Issue: we have reversed the inheritence order, The MRO is finding my calculate_payroll() of SalariedEmployee before the one in HourlyEmplyee\n",
        "\n",
        "Sol: Bypass the MRO, directly calling the HourlyEmployee"
      ]
    },
    {
      "cell_type": "code",
      "metadata": {
        "colab": {
          "base_uri": "https://localhost:8080/"
        },
        "id": "IUS76Wu_8S1G",
        "outputId": "e6bffc19-3043-4081-eeaa-b2db836e7e70"
      },
      "source": [
        "class TemporarySecretary(Secretary, HourlyEmployee ):\n",
        "  def __init__(self, id,name, hours_worked,hour_rate):\n",
        "    HourlyEmployee.__init__(self, id,name, hours_worked,hour_rate)\n",
        "\n",
        "  def calculate_payroll(self):\n",
        "    return HourlyEmployee.calculate_payroll(self)\n",
        "\n",
        "manager = Manager(1,'shantanu',3000)\n",
        "secretary = Secretary(2,'Jojo',1500)\n",
        "sales_person = SalesPerson(3,'Ashoka',900,250)\n",
        "factory_worker = FactoryWorker(4,'Bheema',40,20)\n",
        "temporary_secretary = TemporarySecretary(5,'Juno',40,9)\n",
        "\n",
        "employees=[\n",
        "           manager,\n",
        "           secretary,\n",
        "           sales_person,\n",
        "           factory_worker,\n",
        "           temporary_secretary\n",
        "]\n",
        "\n",
        "productivity_system = ProductivitySystem()\n",
        "productivity_system.track(employees,40)\n",
        "payroll_system= PayrollSystem()\n",
        "payroll_system.calculate_payroll(employees)"
      ],
      "execution_count": 10,
      "outputs": [
        {
          "output_type": "stream",
          "name": "stdout",
          "text": [
            "Tracking the Employee Productivity\n",
            "shantanu spends most of the 40 hours  managing the employees and sprints\n",
            "Jojo spends  40 hours  answering personal phonecalls\n",
            "Ashoka spends 40 hours  on company phone for making sales\n",
            "Bheema works hard  for 40 hours and still paid the least\n",
            "Juno spends  40 hours  answering personal phonecalls\n",
            "\n",
            "Calculating the payroll\n",
            "Payroll for :1 - shantanu\n",
            "Check amount:3000\n",
            "\n",
            "Payroll for :2 - Jojo\n",
            "Check amount:1500\n",
            "\n",
            "Payroll for :3 - Ashoka\n",
            "Check amount:1150\n",
            "\n",
            "Payroll for :4 - Bheema\n",
            "Check amount:800\n",
            "\n",
            "Payroll for :5 - Juno\n",
            "Check amount:360\n",
            "\n"
          ]
        }
      ]
    },
    {
      "cell_type": "code",
      "metadata": {
        "id": "WCaCKTYO_l6g"
      },
      "source": [
        "\n",
        "class ProductivitySystem:\n",
        "  def track(self,employees, hours):\n",
        "    print(\"Tracking the Employee Productivity\")\n",
        "    for employee in employees:\n",
        "      employee.work(hours)\n",
        "    print('')\n",
        "\n",
        "class ManagerRole:\n",
        "  def work(self,hours):\n",
        "    return f'{self.name} wastes most of the {hours} hours  managing the employees and sprints'\n",
        "\n",
        "\n",
        "class SecretaryRole:\n",
        "  def work(self,hours):\n",
        "    return f'{self.name} screams  {hours} hours  answering personal phonecalls'\n",
        "\n",
        "\n",
        "class SalesRole:\n",
        "  def work(self,hours):\n",
        "    return f'{self.name} expends {hours} hours  on company phone for making sales'\n",
        "\n",
        "class FactoryRole:\n",
        "  def work(self,hours):\n",
        "    return f'{self.name} screams hard  for {hours} hours and still paid the least'\n"
      ],
      "execution_count": 11,
      "outputs": []
    },
    {
      "cell_type": "code",
      "metadata": {
        "id": "MUC6zvUHDaEW"
      },
      "source": [
        "\n",
        "class PayrollSystem:\n",
        "  def calculate_payroll(self,employees):\n",
        "    print(\"Calculating the payroll\")\n",
        "    for employee in employees:\n",
        "      print(f'Payroll for :{employee.id} - {employee.name}')\n",
        "      print(f'Check amount:{employee.calculate_payroll()}')\n",
        "      print('')\n",
        "\n",
        "class SalaryPolicy:\n",
        "  def __init__(self,weekly_salary):\n",
        "    self.weekly_salary=weekly_salary\n",
        "\n",
        "  def calculate_payroll(self):\n",
        "    return self.weekly_salary\n",
        "\n",
        "class HourlyPolicy:\n",
        "  def __init__(self, hours_worked,hour_rate):\n",
        "    self.hours_worked= hours_worked\n",
        "    self.hour_rate= hour_rate\n",
        "\n",
        "  def calculate_payroll(self):\n",
        "    return self.hours_worked* self.hour_rate\n",
        "\n",
        "class CommissionPolicy(SalaryPolicy):\n",
        "  def __init__(self, weekly_salary,commission):\n",
        "    super().__init__(weekly_salary)\n",
        "    self.commission= commission\n",
        "\n",
        "  def calculate_payroll(self):\n",
        "    fixed = super().calculate_payroll()\n",
        "    return fixed + self.commission"
      ],
      "execution_count": 12,
      "outputs": []
    },
    {
      "cell_type": "code",
      "metadata": {
        "id": "BKGxdXfSEnph"
      },
      "source": [
        "class Employee:\n",
        "  def __init__(self , id, name):\n",
        "    self.id = id\n",
        "    self.name = name\n",
        "\n",
        "\n",
        "class Manager(Employee, ManagerRole, SalaryPolicy):\n",
        "  def __init__(self,hours,weekly_salary):\n",
        "    SalaryPolicy.__init__(self, weekly_salary)\n",
        "    super().__init__(id,name)\n",
        "\n",
        "\n",
        "class Secretary(Employee, SecretaryRole, SalaryPolicy):\n",
        "  def __init__(self,weekly_salary):\n",
        "    SalaryPolicy.__init__(self, weekly_salary)\n",
        "    super().__init__(id,name)\n",
        "\n",
        "\n",
        "class SalesPerson(Employee, SalesRole, CommissionPolicy):\n",
        "  def __init__(self,weekly_salary,commission):\n",
        "    CommissionPolicy.__init__(self, weekly_salary,commission)\n",
        "    super().__init__(id,name)\n",
        "\n",
        "class FactoryWorker(Employee, FactoryRole, HourlyPolicy):\n",
        "  def __init__(self,hours):\n",
        "    HourlyPolicy.__init__(self, hours_worked,hour_rate)\n",
        "    super().__init__(id,name)\n",
        "\n",
        "class TemporarySecretary(Employee, SecretaryRole, HourlyPolicy):\n",
        "  def __init__(self,hours):\n",
        "    HourlyPolicy.__init__(self, hours_worked,hour_rate)\n",
        "    super().__init__(id,name)\n"
      ],
      "execution_count": 13,
      "outputs": []
    },
    {
      "cell_type": "markdown",
      "metadata": {
        "id": "SydBkJkwHNfQ"
      },
      "source": [
        "COMPOSITION\n",
        "\n",
        "An OOPS concept that models/classes will have a relationship.\n",
        "The class is called composite and the object is called component\n",
        "NOTE: A composite class has a component of another class "
      ]
    },
    {
      "cell_type": "code",
      "metadata": {
        "id": "MNzVYQ7tHNKs"
      },
      "source": [
        "class Address:\n",
        "  def __init__(self,street,city,state,zipcode, street2=''):\n",
        "    self.street=street\n",
        "    self.street2=street2\n",
        "    self.city=city\n",
        "    self.state=state\n",
        "    self.zipcode=zipcode\n",
        "\n",
        "  def __str__(self):\n",
        "    lines = [self.street]\n",
        "    if self.street2:\n",
        "      lines.append(self.street2)\n",
        "    lines.append(f'{self.city},{self.state},{self.zipcode}')\n",
        "    return '\\n'.join(lines)\n",
        "    "
      ],
      "execution_count": 14,
      "outputs": []
    },
    {
      "cell_type": "code",
      "metadata": {
        "colab": {
          "base_uri": "https://localhost:8080/"
        },
        "id": "sVN_yIwSKbZG",
        "outputId": "ab491037-9a82-41af-e293-e3a3f836a78e"
      },
      "source": [
        "address = Address('23rd Main','Bengaluru','KA','560001')\n",
        "print(address)"
      ],
      "execution_count": 15,
      "outputs": [
        {
          "output_type": "stream",
          "name": "stdout",
          "text": [
            "23rd Main\n",
            "Bengaluru,KA,560001\n"
          ]
        }
      ]
    },
    {
      "cell_type": "code",
      "metadata": {
        "id": "H8eh_RO3K9HM"
      },
      "source": [
        "class Employee:\n",
        "  def __init__(self , id, name):\n",
        "    self.id = id\n",
        "    self.name = name\n",
        "    self.address = None"
      ],
      "execution_count": 42,
      "outputs": []
    },
    {
      "cell_type": "code",
      "metadata": {
        "id": "Zq1LeiIiLJF4"
      },
      "source": [
        "\n",
        "class PayrollSystem:\n",
        "  def calculate_payroll(self,employees):\n",
        "    print(\"Calculating the payroll\")\n",
        "    for employee in employees:\n",
        "      print(f'Payroll for :{employee.id} - {employee.name}')\n",
        "      print(f'Check amount:{employee.calculate_payroll()}')\n",
        "      if employee.address:\n",
        "        print('--Sent to:')\n",
        "        print(employee.address)\n",
        "      print('')"
      ],
      "execution_count": 44,
      "outputs": []
    },
    {
      "cell_type": "code",
      "metadata": {
        "id": "NAwpfNEwOOlA"
      },
      "source": [
        "\n",
        "class ManagerRole:\n",
        "  def work(self,hours):\n",
        "    return f'{self.name} wastes most of the {hours} hours  managing the employees and sprints'\n",
        "\n",
        "\n",
        "class SalaryPolicy:\n",
        "  def __init__(self,weekly_salary):\n",
        "    self.weekly_salary=weekly_salary\n",
        "\n",
        "  def calculate_payroll(self):\n",
        "    return self.weekly_salary\n",
        "  \n",
        "\n",
        "class SecretaryRole:\n",
        "  def work(self,hours):\n",
        "    return f'{self.name} screams  {hours} hours  answering personal phonecalls'\n",
        "\n",
        "\n",
        "class Secretary(Employee, SecretaryRole, SalaryPolicy):\n",
        "  def __init__(self,id,name,weekly_salary):\n",
        "    SalaryPolicy.__init__(self, weekly_salary)\n",
        "    super().__init__(id,name)\n",
        "\n",
        "\n",
        "class Manager(Employee, ManagerRole, SalaryPolicy):\n",
        "  def __init__(self,id,name, weekly_salary):\n",
        "    SalaryPolicy.__init__(self, weekly_salary)\n",
        "    super().__init__(id,name)\n",
        "    \n",
        "\n",
        "\n",
        "\n",
        "class SalesRole:\n",
        "  def work(self,hours):\n",
        "    return f'{self.name} expends {hours} hours  on company phone for making sales'\n",
        "\n",
        "class CommissionPolicy(SalaryPolicy):\n",
        "  def __init__(self, weekly_salary,commission):\n",
        "    super().__init__(weekly_salary)\n",
        "    self.commission= commission\n",
        "\n",
        "  def calculate_payroll(self):\n",
        "    fixed = super().calculate_payroll()\n",
        "    return fixed + self.commission\n",
        "\n",
        "class SalesPerson(Employee, SalesRole, CommissionPolicy):\n",
        "  def __init__(self,id,name,weekly_salary,commission):\n",
        "    CommissionPolicy.__init__(self, weekly_salary,commission)\n",
        "    super().__init__(id,name)\n",
        "\n",
        "\n",
        "class FactoryRole:\n",
        "  def work(self,hours):\n",
        "    return f'{self.name} screams hard  for {hours} hours and still paid the least'\n",
        "\n",
        "\n",
        "class HourlyPolicy:\n",
        "  def __init__(self, hours_worked,hour_rate):\n",
        "    self.hours_worked= hours_worked\n",
        "    self.hour_rate= hour_rate\n",
        "\n",
        "  def calculate_payroll(self):\n",
        "    return self.hours_worked* self.hour_rate\n",
        "\n",
        "class FactoryWorker(Employee, FactoryRole, HourlyPolicy):\n",
        "  def __init__(self,id,name,hours_worked,hour_rate):\n",
        "    HourlyPolicy.__init__(self, hours_worked,hour_rate)\n",
        "    super().__init__(id,name)\n",
        "\n",
        "class TemporarySecretary(Employee, SecretaryRole, HourlyPolicy):\n",
        "  def __init__(self,id,name,hours_worked,hour_rate):\n",
        "    HourlyPolicy.__init__(self, hours_worked,hour_rate)\n",
        "    super().__init__(id,name)\n",
        "\n"
      ],
      "execution_count": 45,
      "outputs": []
    },
    {
      "cell_type": "code",
      "metadata": {
        "colab": {
          "base_uri": "https://localhost:8080/",
          "height": 618
        },
        "id": "J808HbabSV46",
        "outputId": "fa6e5a40-6d36-4c61-9b0f-08c76dc054c0"
      },
      "source": [
        "\n",
        "manager = Manager(1,'Pikachu',1500)\n",
        "manager.address= Address(\n",
        "    '55th Main St.',\n",
        "    'Bengaluru',\n",
        "    'KA',\n",
        "    '560003'\n",
        ")\n",
        "secretary = Secretary(2,'Mary',2500)\n",
        "secretary.address= Address(\n",
        "    '77th Main St.',\n",
        "    'Bengaluru',\n",
        "    'KA',\n",
        "    '560007'\n",
        ")\n",
        "sales_person = SalesPerson(3,'Ashoka',900,250)\n",
        "factory_worker =FactoryWorker(4,'Bheema',40,20)\n",
        "temporary_secretary = TemporarySecretary(5,'Juno',40,9)\n",
        "employee= [\n",
        "           manager,\n",
        "           secretary,\n",
        "           sales_person,\n",
        "           factory_worker,\n",
        "           temporary_secretary\n",
        "]\n",
        "\n",
        "class ProductivitySystem:\n",
        "  def track(self,employees, hours):\n",
        "    print(\"Tracking the Employee Productivity\")\n",
        "    for employee in employees:\n",
        "      result = employee.work(hours)\n",
        "      print(f'{employee.name}: {result}')\n",
        "    print('')\n",
        "\n",
        "productivity_system = ProductivitySystem()\n",
        "productivity_system.track(employees,40)\n",
        "payroll_system= PayrollSystem()\n",
        "payroll_system.calculate_payroll(employees)"
      ],
      "execution_count": 46,
      "outputs": [
        {
          "output_type": "stream",
          "name": "stdout",
          "text": [
            "Tracking the Employee Productivity\n",
            "shantanu spends most of the 40 hours  managing the employees and sprints\n",
            "shantanu: None\n",
            "Jojo spends  40 hours  answering personal phonecalls\n",
            "Jojo: None\n",
            "Ashoka spends 40 hours  on company phone for making sales\n",
            "Ashoka: None\n",
            "Bheema works hard  for 40 hours and still paid the least\n",
            "Bheema: None\n",
            "Juno spends  40 hours  answering personal phonecalls\n",
            "Juno: None\n",
            "\n",
            "Calculating the payroll\n",
            "Payroll for :1 - shantanu\n",
            "Check amount:3000\n"
          ]
        },
        {
          "output_type": "error",
          "ename": "AttributeError",
          "evalue": "ignored",
          "traceback": [
            "\u001b[0;31m---------------------------------------------------------------------------\u001b[0m",
            "\u001b[0;31mAttributeError\u001b[0m                            Traceback (most recent call last)",
            "\u001b[0;32m<ipython-input-46-8351158f00c2>\u001b[0m in \u001b[0;36m<module>\u001b[0;34m()\u001b[0m\n\u001b[1;32m     36\u001b[0m \u001b[0mproductivity_system\u001b[0m\u001b[0;34m.\u001b[0m\u001b[0mtrack\u001b[0m\u001b[0;34m(\u001b[0m\u001b[0memployees\u001b[0m\u001b[0;34m,\u001b[0m\u001b[0;36m40\u001b[0m\u001b[0;34m)\u001b[0m\u001b[0;34m\u001b[0m\u001b[0;34m\u001b[0m\u001b[0m\n\u001b[1;32m     37\u001b[0m \u001b[0mpayroll_system\u001b[0m\u001b[0;34m=\u001b[0m \u001b[0mPayrollSystem\u001b[0m\u001b[0;34m(\u001b[0m\u001b[0;34m)\u001b[0m\u001b[0;34m\u001b[0m\u001b[0;34m\u001b[0m\u001b[0m\n\u001b[0;32m---> 38\u001b[0;31m \u001b[0mpayroll_system\u001b[0m\u001b[0;34m.\u001b[0m\u001b[0mcalculate_payroll\u001b[0m\u001b[0;34m(\u001b[0m\u001b[0memployees\u001b[0m\u001b[0;34m)\u001b[0m\u001b[0;34m\u001b[0m\u001b[0;34m\u001b[0m\u001b[0m\n\u001b[0m",
            "\u001b[0;32m<ipython-input-44-d7f2481eb06d>\u001b[0m in \u001b[0;36mcalculate_payroll\u001b[0;34m(self, employees)\u001b[0m\n\u001b[1;32m      6\u001b[0m       \u001b[0mprint\u001b[0m\u001b[0;34m(\u001b[0m\u001b[0;34mf'Payroll for :{employee.id} - {employee.name}'\u001b[0m\u001b[0;34m)\u001b[0m\u001b[0;34m\u001b[0m\u001b[0;34m\u001b[0m\u001b[0m\n\u001b[1;32m      7\u001b[0m       \u001b[0mprint\u001b[0m\u001b[0;34m(\u001b[0m\u001b[0;34mf'Check amount:{employee.calculate_payroll()}'\u001b[0m\u001b[0;34m)\u001b[0m\u001b[0;34m\u001b[0m\u001b[0;34m\u001b[0m\u001b[0m\n\u001b[0;32m----> 8\u001b[0;31m       \u001b[0;32mif\u001b[0m \u001b[0memployee\u001b[0m\u001b[0;34m.\u001b[0m\u001b[0maddress\u001b[0m\u001b[0;34m:\u001b[0m\u001b[0;34m\u001b[0m\u001b[0;34m\u001b[0m\u001b[0m\n\u001b[0m\u001b[1;32m      9\u001b[0m         \u001b[0mprint\u001b[0m\u001b[0;34m(\u001b[0m\u001b[0;34m'--Sent to:'\u001b[0m\u001b[0;34m)\u001b[0m\u001b[0;34m\u001b[0m\u001b[0;34m\u001b[0m\u001b[0m\n\u001b[1;32m     10\u001b[0m         \u001b[0mprint\u001b[0m\u001b[0;34m(\u001b[0m\u001b[0memployee\u001b[0m\u001b[0;34m.\u001b[0m\u001b[0maddress\u001b[0m\u001b[0;34m)\u001b[0m\u001b[0;34m\u001b[0m\u001b[0;34m\u001b[0m\u001b[0m\n",
            "\u001b[0;31mAttributeError\u001b[0m: 'Manager' object has no attribute 'address'"
          ]
        }
      ]
    }
  ]
}