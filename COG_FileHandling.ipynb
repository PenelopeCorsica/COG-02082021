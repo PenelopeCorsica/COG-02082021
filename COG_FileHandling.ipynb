{
  "nbformat": 4,
  "nbformat_minor": 0,
  "metadata": {
    "colab": {
      "name": "COG-FileHandling.ipynb",
      "provenance": [],
      "authorship_tag": "ABX9TyMaYfGXNg8QDZAaCOJzYRb4",
      "include_colab_link": true
    },
    "kernelspec": {
      "name": "python3",
      "display_name": "Python 3"
    },
    "language_info": {
      "name": "python"
    }
  },
  "cells": [
    {
      "cell_type": "markdown",
      "metadata": {
        "id": "view-in-github",
        "colab_type": "text"
      },
      "source": [
        "<a href=\"https://colab.research.google.com/github/a-forty-two/COG-02082021/blob/main/COG_FileHandling.ipynb\" target=\"_parent\"><img src=\"https://colab.research.google.com/assets/colab-badge.svg\" alt=\"Open In Colab\"/></a>"
      ]
    },
    {
      "cell_type": "code",
      "metadata": {
        "colab": {
          "base_uri": "https://localhost:8080/"
        },
        "id": "mVpEJreXItRK",
        "outputId": "6db293e3-828d-40f0-9858-e12c5e1271e1"
      },
      "source": [
        "fileLoc = open(\"/content/demofile.txt\")\n",
        "print(fileLoc.readline())"
      ],
      "execution_count": 2,
      "outputs": [
        {
          "output_type": "stream",
          "text": [
            "hello world. Hows everyone\n"
          ],
          "name": "stdout"
        }
      ]
    },
    {
      "cell_type": "code",
      "metadata": {
        "colab": {
          "base_uri": "https://localhost:8080/"
        },
        "id": "6f65z4DtJGQ7",
        "outputId": "c3439ceb-f824-4af4-a268-34a7133b9224"
      },
      "source": [
        "fileLoc = open(\"/content/Giants.csv\")\n",
        "print(fileLoc.read())"
      ],
      "execution_count": 3,
      "outputs": [
        {
          "output_type": "stream",
          "text": [
            "movie,title,genres,year,Rating,Rotton Tomato\n",
            "108583,Fawlty Towers (1975,Comedy,-1980,1,54\n",
            "32898,\"Trip to the Moon, A (Voyage dans la lune, Le)\",Action|Adventure|Fantasy|Sci-Fi,1902,7,80\n",
            "7065,\"Birth of a Nation, The\",Drama|War,1915,6,92\n"
          ],
          "name": "stdout"
        }
      ]
    },
    {
      "cell_type": "code",
      "metadata": {
        "id": "79qn1wBeJjQw"
      },
      "source": [
        ""
      ],
      "execution_count": null,
      "outputs": []
    }
  ]
}