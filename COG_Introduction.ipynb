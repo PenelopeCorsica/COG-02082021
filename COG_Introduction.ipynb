{
  "nbformat": 4,
  "nbformat_minor": 0,
  "metadata": {
    "colab": {
      "name": "COG-Introduction.ipynb",
      "provenance": [],
      "collapsed_sections": [],
      "authorship_tag": "ABX9TyNwuN8Yyu05J9yc0OBLPVE0",
      "include_colab_link": true
    },
    "kernelspec": {
      "name": "python3",
      "display_name": "Python 3"
    },
    "language_info": {
      "name": "python"
    }
  },
  "cells": [
    {
      "cell_type": "markdown",
      "metadata": {
        "id": "view-in-github",
        "colab_type": "text"
      },
      "source": [
        "<a href=\"https://colab.research.google.com/github/a-forty-two/COG-02082021/blob/main/COG_Introduction.ipynb\" target=\"_parent\"><img src=\"https://colab.research.google.com/assets/colab-badge.svg\" alt=\"Open In Colab\"/></a>"
      ]
    },
    {
      "cell_type": "code",
      "metadata": {
        "colab": {
          "base_uri": "https://localhost:8080/"
        },
        "id": "Zwj5flLo6ahG",
        "outputId": "ab158f49-4991-4968-ce5e-858b3deeea2c"
      },
      "source": [
        "import numpy as np\n",
        "\n",
        "input = np.array([1,2,3,4,5])\n",
        "print(input)\n",
        "print(input.ndim)"
      ],
      "execution_count": 7,
      "outputs": [
        {
          "output_type": "stream",
          "text": [
            "[[1 2 3 4 5]]\n",
            "2\n"
          ],
          "name": "stdout"
        }
      ]
    },
    {
      "cell_type": "code",
      "metadata": {
        "colab": {
          "base_uri": "https://localhost:8080/"
        },
        "id": "jVws3zbz74Dz",
        "outputId": "cf0a4f4c-6e78-484c-f5f5-02fda38e53ca"
      },
      "source": [
        "import numpy as np\n",
        "\n",
        "input = np.array([[[1,2,3,4,5],[11,2,31,4,51],[12,33,6,35,78]],[[1,2,3,4,5],[11,2,31,4,51],[12,33,6,35,78]]])\n",
        "print(input)\n",
        "print(input.ndim)\n",
        "print(input.shape)"
      ],
      "execution_count": 13,
      "outputs": [
        {
          "output_type": "stream",
          "text": [
            "[[[ 1  2  3  4  5]\n",
            "  [11  2 31  4 51]\n",
            "  [12 33  6 35 78]]\n",
            "\n",
            " [[ 1  2  3  4  5]\n",
            "  [11  2 31  4 51]\n",
            "  [12 33  6 35 78]]]\n",
            "3\n",
            "(2, 3, 5)\n"
          ],
          "name": "stdout"
        }
      ]
    },
    {
      "cell_type": "code",
      "metadata": {
        "colab": {
          "base_uri": "https://localhost:8080/"
        },
        "id": "7B8SThYN7Ef5",
        "outputId": "572102c4-e0a0-479c-8aee-512865a25631"
      },
      "source": [
        "data = [1,2,3,45,6]\n",
        "print(data)\n"
      ],
      "execution_count": 9,
      "outputs": [
        {
          "output_type": "stream",
          "text": [
            "[1, 2, 3, 45, 6]\n"
          ],
          "name": "stdout"
        }
      ]
    },
    {
      "cell_type": "code",
      "metadata": {
        "colab": {
          "base_uri": "https://localhost:8080/"
        },
        "id": "x2g-dWmu7Jmv",
        "outputId": "0666ff26-a7fd-45c5-f0a3-b56d2495cb0c"
      },
      "source": [
        "input = np.array([1,2,3,4,5])\n",
        "xFiltr = [True,False,True,False,True]\n",
        "output = input[xFiltr]\n",
        "print(output)"
      ],
      "execution_count": 16,
      "outputs": [
        {
          "output_type": "stream",
          "text": [
            "[1 3 5]\n"
          ],
          "name": "stdout"
        }
      ]
    },
    {
      "cell_type": "code",
      "metadata": {
        "id": "ByUZoGwB9yQj"
      },
      "source": [
        ""
      ],
      "execution_count": null,
      "outputs": []
    }
  ]
}