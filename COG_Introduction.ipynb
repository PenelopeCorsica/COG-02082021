{
  "nbformat": 4,
  "nbformat_minor": 0,
  "metadata": {
    "colab": {
      "name": "COG-Introduction.ipynb",
      "provenance": [],
      "collapsed_sections": [],
      "authorship_tag": "ABX9TyMo+JbFgseGXIvncgUndpsz",
      "include_colab_link": true
    },
    "kernelspec": {
      "name": "python3",
      "display_name": "Python 3"
    },
    "language_info": {
      "name": "python"
    }
  },
  "cells": [
    {
      "cell_type": "markdown",
      "metadata": {
        "id": "view-in-github",
        "colab_type": "text"
      },
      "source": [
        "<a href=\"https://colab.research.google.com/github/a-forty-two/COG-02082021/blob/main/COG_Introduction.ipynb\" target=\"_parent\"><img src=\"https://colab.research.google.com/assets/colab-badge.svg\" alt=\"Open In Colab\"/></a>"
      ]
    },
    {
      "cell_type": "code",
      "metadata": {
        "colab": {
          "base_uri": "https://localhost:8080/"
        },
        "id": "Zwj5flLo6ahG",
        "outputId": "ab158f49-4991-4968-ce5e-858b3deeea2c"
      },
      "source": [
        "import numpy as np\n",
        "\n",
        "input = np.array([1,2,3,4,5])\n",
        "print(input)\n",
        "print(input.ndim)"
      ],
      "execution_count": 7,
      "outputs": [
        {
          "output_type": "stream",
          "text": [
            "[[1 2 3 4 5]]\n",
            "2\n"
          ],
          "name": "stdout"
        }
      ]
    },
    {
      "cell_type": "code",
      "metadata": {
        "colab": {
          "base_uri": "https://localhost:8080/"
        },
        "id": "jVws3zbz74Dz",
        "outputId": "cf0a4f4c-6e78-484c-f5f5-02fda38e53ca"
      },
      "source": [
        "import numpy as np\n",
        "\n",
        "input = np.array([[[1,2,3,4,5],[11,2,31,4,51],[12,33,6,35,78]],[[1,2,3,4,5],[11,2,31,4,51],[12,33,6,35,78]]])\n",
        "print(input)\n",
        "print(input.ndim)\n",
        "print(input.shape)"
      ],
      "execution_count": 13,
      "outputs": [
        {
          "output_type": "stream",
          "text": [
            "[[[ 1  2  3  4  5]\n",
            "  [11  2 31  4 51]\n",
            "  [12 33  6 35 78]]\n",
            "\n",
            " [[ 1  2  3  4  5]\n",
            "  [11  2 31  4 51]\n",
            "  [12 33  6 35 78]]]\n",
            "3\n",
            "(2, 3, 5)\n"
          ],
          "name": "stdout"
        }
      ]
    },
    {
      "cell_type": "code",
      "metadata": {
        "colab": {
          "base_uri": "https://localhost:8080/"
        },
        "id": "7B8SThYN7Ef5",
        "outputId": "572102c4-e0a0-479c-8aee-512865a25631"
      },
      "source": [
        "data = [1,2,3,45,6]\n",
        "print(data)\n"
      ],
      "execution_count": 9,
      "outputs": [
        {
          "output_type": "stream",
          "text": [
            "[1, 2, 3, 45, 6]\n"
          ],
          "name": "stdout"
        }
      ]
    },
    {
      "cell_type": "code",
      "metadata": {
        "colab": {
          "base_uri": "https://localhost:8080/"
        },
        "id": "x2g-dWmu7Jmv",
        "outputId": "0666ff26-a7fd-45c5-f0a3-b56d2495cb0c"
      },
      "source": [
        "input = np.array([1,2,3,4,5])\n",
        "xFiltr = [True,False,True,False,True]\n",
        "output = input[xFiltr]\n",
        "print(output)"
      ],
      "execution_count": 16,
      "outputs": [
        {
          "output_type": "stream",
          "text": [
            "[1 3 5]\n"
          ],
          "name": "stdout"
        }
      ]
    },
    {
      "cell_type": "code",
      "metadata": {
        "colab": {
          "base_uri": "https://localhost:8080/"
        },
        "id": "ByUZoGwB9yQj",
        "outputId": "8c8d0b13-aa81-4a36-c7de-4b0886b3ab56"
      },
      "source": [
        "import pandas as pd\n",
        "\n",
        "data = pd.Series([1,4,7,np.NaN,9])\n",
        "data"
      ],
      "execution_count": 18,
      "outputs": [
        {
          "output_type": "execute_result",
          "data": {
            "text/plain": [
              "0    1.0\n",
              "1    4.0\n",
              "2    7.0\n",
              "3    NaN\n",
              "4    9.0\n",
              "dtype: float64"
            ]
          },
          "metadata": {
            "tags": []
          },
          "execution_count": 18
        }
      ]
    },
    {
      "cell_type": "code",
      "metadata": {
        "colab": {
          "base_uri": "https://localhost:8080/"
        },
        "id": "vXT7Jl0VCl48",
        "outputId": "c41981d8-9c70-4355-f277-96f0811d172b"
      },
      "source": [
        "dates = pd.date_range('20210101', periods=6)\n",
        "dates"
      ],
      "execution_count": 19,
      "outputs": [
        {
          "output_type": "execute_result",
          "data": {
            "text/plain": [
              "DatetimeIndex(['2021-01-01', '2021-01-02', '2021-01-03', '2021-01-04',\n",
              "               '2021-01-05', '2021-01-06'],\n",
              "              dtype='datetime64[ns]', freq='D')"
            ]
          },
          "metadata": {
            "tags": []
          },
          "execution_count": 19
        }
      ]
    },
    {
      "cell_type": "code",
      "metadata": {
        "colab": {
          "base_uri": "https://localhost:8080/",
          "height": 235
        },
        "id": "njmVVxNFC0w_",
        "outputId": "7bfc2017-9a8c-4bdf-cc47-40b24d8e02a8"
      },
      "source": [
        "df = pd.DataFrame(np.random.randn(6,4), index=dates, columns=list('ABCD'))\n",
        "df"
      ],
      "execution_count": 21,
      "outputs": [
        {
          "output_type": "execute_result",
          "data": {
            "text/html": [
              "<div>\n",
              "<style scoped>\n",
              "    .dataframe tbody tr th:only-of-type {\n",
              "        vertical-align: middle;\n",
              "    }\n",
              "\n",
              "    .dataframe tbody tr th {\n",
              "        vertical-align: top;\n",
              "    }\n",
              "\n",
              "    .dataframe thead th {\n",
              "        text-align: right;\n",
              "    }\n",
              "</style>\n",
              "<table border=\"1\" class=\"dataframe\">\n",
              "  <thead>\n",
              "    <tr style=\"text-align: right;\">\n",
              "      <th></th>\n",
              "      <th>A</th>\n",
              "      <th>B</th>\n",
              "      <th>C</th>\n",
              "      <th>D</th>\n",
              "    </tr>\n",
              "  </thead>\n",
              "  <tbody>\n",
              "    <tr>\n",
              "      <th>2021-01-01</th>\n",
              "      <td>-0.416052</td>\n",
              "      <td>-0.240987</td>\n",
              "      <td>0.666859</td>\n",
              "      <td>-0.102624</td>\n",
              "    </tr>\n",
              "    <tr>\n",
              "      <th>2021-01-02</th>\n",
              "      <td>-0.396612</td>\n",
              "      <td>-0.169654</td>\n",
              "      <td>-1.108612</td>\n",
              "      <td>1.733267</td>\n",
              "    </tr>\n",
              "    <tr>\n",
              "      <th>2021-01-03</th>\n",
              "      <td>-2.371463</td>\n",
              "      <td>0.572874</td>\n",
              "      <td>1.018449</td>\n",
              "      <td>0.071244</td>\n",
              "    </tr>\n",
              "    <tr>\n",
              "      <th>2021-01-04</th>\n",
              "      <td>-0.581882</td>\n",
              "      <td>1.742696</td>\n",
              "      <td>-1.239521</td>\n",
              "      <td>-1.350761</td>\n",
              "    </tr>\n",
              "    <tr>\n",
              "      <th>2021-01-05</th>\n",
              "      <td>-0.054876</td>\n",
              "      <td>-1.122202</td>\n",
              "      <td>-0.358099</td>\n",
              "      <td>0.054650</td>\n",
              "    </tr>\n",
              "    <tr>\n",
              "      <th>2021-01-06</th>\n",
              "      <td>1.474836</td>\n",
              "      <td>-1.743376</td>\n",
              "      <td>-0.817215</td>\n",
              "      <td>-1.460640</td>\n",
              "    </tr>\n",
              "  </tbody>\n",
              "</table>\n",
              "</div>"
            ],
            "text/plain": [
              "                   A         B         C         D\n",
              "2021-01-01 -0.416052 -0.240987  0.666859 -0.102624\n",
              "2021-01-02 -0.396612 -0.169654 -1.108612  1.733267\n",
              "2021-01-03 -2.371463  0.572874  1.018449  0.071244\n",
              "2021-01-04 -0.581882  1.742696 -1.239521 -1.350761\n",
              "2021-01-05 -0.054876 -1.122202 -0.358099  0.054650\n",
              "2021-01-06  1.474836 -1.743376 -0.817215 -1.460640"
            ]
          },
          "metadata": {
            "tags": []
          },
          "execution_count": 21
        }
      ]
    },
    {
      "cell_type": "code",
      "metadata": {
        "id": "xnWswT4fDPaK"
      },
      "source": [
        ""
      ],
      "execution_count": null,
      "outputs": []
    }
  ]
}