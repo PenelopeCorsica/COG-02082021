{
  "nbformat": 4,
  "nbformat_minor": 0,
  "metadata": {
    "colab": {
      "name": "ComputerVision.ipynb",
      "provenance": [],
      "authorship_tag": "ABX9TyNL5im0O0WufSu1DYWff3K/",
      "include_colab_link": true
    },
    "kernelspec": {
      "name": "python3",
      "display_name": "Python 3"
    },
    "language_info": {
      "name": "python"
    }
  },
  "cells": [
    {
      "cell_type": "markdown",
      "metadata": {
        "id": "view-in-github",
        "colab_type": "text"
      },
      "source": [
        "<a href=\"https://colab.research.google.com/github/a-forty-two/COG-02082021/blob/main/ComputerVision.ipynb\" target=\"_parent\"><img src=\"https://colab.research.google.com/assets/colab-badge.svg\" alt=\"Open In Colab\"/></a>"
      ]
    },
    {
      "cell_type": "code",
      "metadata": {
        "colab": {
          "base_uri": "https://localhost:8080/"
        },
        "id": "XhhEomCu1yF0",
        "outputId": "4670b8dd-23ea-4bca-ce31-86bac2b7b7de"
      },
      "source": [
        "!pip install --upgrade azure-cognitiveservices-vision-computervision"
      ],
      "execution_count": 3,
      "outputs": [
        {
          "output_type": "stream",
          "text": [
            "Collecting azure-cognitiveservices-vision-computervision\n",
            "  Downloading azure_cognitiveservices_vision_computervision-0.9.0-py2.py3-none-any.whl (39 kB)\n",
            "Collecting azure-common~=1.1\n",
            "  Downloading azure_common-1.1.27-py2.py3-none-any.whl (12 kB)\n",
            "Collecting msrest>=0.5.0\n",
            "  Downloading msrest-0.6.21-py2.py3-none-any.whl (85 kB)\n",
            "\u001b[K     |████████████████████████████████| 85 kB 2.0 MB/s \n",
            "\u001b[?25hCollecting isodate>=0.6.0\n",
            "  Downloading isodate-0.6.0-py2.py3-none-any.whl (45 kB)\n",
            "\u001b[K     |████████████████████████████████| 45 kB 2.2 MB/s \n",
            "\u001b[?25hRequirement already satisfied: requests~=2.16 in /usr/local/lib/python3.7/dist-packages (from msrest>=0.5.0->azure-cognitiveservices-vision-computervision) (2.23.0)\n",
            "Requirement already satisfied: certifi>=2017.4.17 in /usr/local/lib/python3.7/dist-packages (from msrest>=0.5.0->azure-cognitiveservices-vision-computervision) (2021.5.30)\n",
            "Requirement already satisfied: requests-oauthlib>=0.5.0 in /usr/local/lib/python3.7/dist-packages (from msrest>=0.5.0->azure-cognitiveservices-vision-computervision) (1.3.0)\n",
            "Requirement already satisfied: six in /usr/local/lib/python3.7/dist-packages (from isodate>=0.6.0->msrest>=0.5.0->azure-cognitiveservices-vision-computervision) (1.15.0)\n",
            "Requirement already satisfied: idna<3,>=2.5 in /usr/local/lib/python3.7/dist-packages (from requests~=2.16->msrest>=0.5.0->azure-cognitiveservices-vision-computervision) (2.10)\n",
            "Requirement already satisfied: chardet<4,>=3.0.2 in /usr/local/lib/python3.7/dist-packages (from requests~=2.16->msrest>=0.5.0->azure-cognitiveservices-vision-computervision) (3.0.4)\n",
            "Requirement already satisfied: urllib3!=1.25.0,!=1.25.1,<1.26,>=1.21.1 in /usr/local/lib/python3.7/dist-packages (from requests~=2.16->msrest>=0.5.0->azure-cognitiveservices-vision-computervision) (1.24.3)\n",
            "Requirement already satisfied: oauthlib>=3.0.0 in /usr/local/lib/python3.7/dist-packages (from requests-oauthlib>=0.5.0->msrest>=0.5.0->azure-cognitiveservices-vision-computervision) (3.1.1)\n",
            "Installing collected packages: isodate, msrest, azure-common, azure-cognitiveservices-vision-computervision\n",
            "Successfully installed azure-cognitiveservices-vision-computervision-0.9.0 azure-common-1.1.27 isodate-0.6.0 msrest-0.6.21\n"
          ],
          "name": "stdout"
        }
      ]
    },
    {
      "cell_type": "code",
      "metadata": {
        "id": "YXhRK5WU2Adn"
      },
      "source": [
        "from azure.cognitiveservices.vision.computervision import ComputerVisionClient\n",
        "from azure.cognitiveservices.vision.computervision.models import VisualFeatureTypes\n",
        "from msrest.authentication import CognitiveServicesCredentials\n",
        "\n",
        "from array import array\n",
        "import os\n",
        "from PIL import Image\n",
        "import sys\n",
        "import time\n",
        "\n",
        "\n"
      ],
      "execution_count": 5,
      "outputs": []
    },
    {
      "cell_type": "code",
      "metadata": {
        "id": "OpmpoqUx25n0"
      },
      "source": [
        "subscription_key = \"612bec2e80274f9e80fa3412231cbc08\"\n",
        "endpoint= \"https://potato28.cognitiveservices.azure.com/\""
      ],
      "execution_count": 6,
      "outputs": []
    },
    {
      "cell_type": "code",
      "metadata": {
        "id": "I7YIXScG3VXN"
      },
      "source": [
        "client = ComputerVisionClient(endpoint,CognitiveServicesCredentials(subscription_key))"
      ],
      "execution_count": 7,
      "outputs": []
    },
    {
      "cell_type": "code",
      "metadata": {
        "id": "Z_eAHmwR3hTz"
      },
      "source": [
        "baseUrl= \"https://potar38.blob.core.windows.net/share/\"\n",
        "images = [\"1.jfif\",\"2.jfif\",\"3.jfif\",\"4.jfif\",\"5.jfif\",\"6.jfif\",]\n",
        "names = [\"pikachu\",\"battlestar\",\"utopia\",\"simpsons\",\"tech logos\",\"More logos\",]"
      ],
      "execution_count": 8,
      "outputs": []
    },
    {
      "cell_type": "code",
      "metadata": {
        "id": "y3IQwRLp4i0H"
      },
      "source": [
        "results=[]\n",
        "\n",
        "for image in images:\n",
        "  result = client.describe_image(baseUrl+image)\n",
        "  results.append(result)\n",
        "\n"
      ],
      "execution_count": 9,
      "outputs": []
    },
    {
      "cell_type": "code",
      "metadata": {
        "colab": {
          "base_uri": "https://localhost:8080/"
        },
        "id": "FjjT3is-5Ck7",
        "outputId": "7a846972-d9ff-4b88-910e-9f8ba576e70c"
      },
      "source": [
        "print(\"Image Description\")\n",
        "i=0\n",
        "for result in results:\n",
        "  if(len(result.captions)==0):\n",
        "    print(\"No desription present\")\n",
        "  else:\n",
        "    for caption in result.captions:\n",
        "      print(\"Image Title:\"+names[i])\n",
        "      print(str(caption.text))\n",
        "      print(str(caption.confidence))\n",
        "      i=i+1\n",
        "      print()"
      ],
      "execution_count": 10,
      "outputs": [
        {
          "output_type": "stream",
          "text": [
            "Image Description\n",
            "Image Title:pikachu\n",
            "a yellow toy with a red nose\n",
            "0.4025164246559143\n",
            "\n",
            "Image Title:battlestar\n",
            "a person in a garment\n",
            "0.3985641598701477\n",
            "\n",
            "Image Title:utopia\n",
            "a man standing in front of a yellow wall with people on it\n",
            "0.5334786772727966\n",
            "\n",
            "Image Title:simpsons\n",
            "a cartoon of a man and a woman\n",
            "0.37389710545539856\n",
            "\n",
            "Image Title:tech logos\n",
            "logo, company name\n",
            "0.9999991655349731\n",
            "\n",
            "Image Title:More logos\n",
            "logo, company name\n",
            "0.9999993443489075\n",
            "\n"
          ],
          "name": "stdout"
        }
      ]
    },
    {
      "cell_type": "code",
      "metadata": {
        "id": "FHT8Gewy6A53"
      },
      "source": [
        "analysis = []\n",
        "for image in images:\n",
        "  analyze = client.analyze_image(baseUrl+image,[\"Categories\"])\n",
        "  analysis.append(analyze)\n"
      ],
      "execution_count": 11,
      "outputs": []
    },
    {
      "cell_type": "code",
      "metadata": {
        "colab": {
          "base_uri": "https://localhost:8080/"
        },
        "id": "rAQJ4pVz6qIL",
        "outputId": "09cc7990-a748-41b4-dea2-88ce36fec20a"
      },
      "source": [
        "print(\"Image Captions:\")\n",
        "\n",
        "for i,result in enumerate(analysis):\n",
        "  try:\n",
        "    if(len(result.categories)==0):\n",
        "      print(\"No captions\")\n",
        "    else:\n",
        "      for category in result.categories:\n",
        "        print(\"Image Title:\"+names[i])\n",
        "        print(category.name)\n",
        "        print(category.score)\n",
        "        i=i+1\n",
        "        print()\n",
        "  except Exception as exp:\n",
        "    print(str(exp)) \n",
        "    pass"
      ],
      "execution_count": 14,
      "outputs": [
        {
          "output_type": "stream",
          "text": [
            "Image Captions:\n",
            "Image Title:pikachu\n",
            "sky_object\n",
            "0.984375\n",
            "\n",
            "Image Title:battlestar\n",
            "others_\n",
            "0.03515625\n",
            "\n",
            "Image Title:utopia\n",
            "people_\n",
            "0.63671875\n",
            "\n",
            "Image Title:simpsons\n",
            "abstract_shape\n",
            "0.1171875\n",
            "\n",
            "Image Title:tech logos\n",
            "outdoor_\n",
            "0.07421875\n",
            "\n",
            "Image Title:More logos\n",
            "text_sign\n",
            "0.41796875\n",
            "\n",
            "Image Title:tech logos\n",
            "abstract_texture\n",
            "0.3515625\n",
            "\n",
            "Image Title:More logos\n",
            "others_\n",
            "0.00390625\n",
            "\n",
            "list index out of range\n",
            "Image Title:More logos\n",
            "text_menu\n",
            "0.1875\n",
            "\n",
            "list index out of range\n"
          ],
          "name": "stdout"
        }
      ]
    },
    {
      "cell_type": "code",
      "metadata": {
        "colab": {
          "base_uri": "https://localhost:8080/"
        },
        "id": "UlYTqFCc8IMK",
        "outputId": "c9e2931d-5520-42f2-c2b7-4f386e0defa8"
      },
      "source": [
        "print(\"Object Detection:\")\n",
        "results=[]\n",
        "for image in images:\n",
        "  result = client.detect_objects(baseUrl+image)\n",
        "  results.append(result)\n",
        "for i,result in enumerate(results):\n",
        "  try:\n",
        "    if(len(result.objects)==0):\n",
        "      print(\"No object detected\")\n",
        "    else:\n",
        "      for object in result.objects:\n",
        "        print(\"Image Title:\"+names[i])\n",
        "        x = object.rectangle.x\n",
        "        y = object.rectangle.y\n",
        "        w = object.rectangle.w\n",
        "        h = object.rectangle.h\n",
        "        print(\"Object at location\")\n",
        "        print(str(x),',',str(y))\n",
        "        print(str(x),',',str(x+w))\n",
        "        print(str(y),',',str(y+h))\n",
        "        print(str(x+w),',',str(y+h))\n",
        "        print()\n",
        "  except:\n",
        "    pass"
      ],
      "execution_count": 20,
      "outputs": [
        {
          "output_type": "stream",
          "text": [
            "Object Detection:\n",
            "Image Title:pikachu\n",
            "Object at location\n",
            "30 , 16\n",
            "30 , 161\n",
            "16 , 189\n",
            "161 , 189\n",
            "\n",
            "No object detected\n",
            "Image Title:utopia\n",
            "Object at location\n",
            "9 , 11\n",
            "9 , 35\n",
            "11 , 66\n",
            "35 , 66\n",
            "\n",
            "Image Title:utopia\n",
            "Object at location\n",
            "26 , 45\n",
            "26 , 55\n",
            "45 , 110\n",
            "55 , 110\n",
            "\n",
            "No object detected\n",
            "No object detected\n",
            "No object detected\n"
          ],
          "name": "stdout"
        }
      ]
    },
    {
      "cell_type": "code",
      "metadata": {
        "colab": {
          "base_uri": "https://localhost:8080/"
        },
        "id": "9HFWYCgd71R8",
        "outputId": "9c3af694-b5bc-4747-f514-b1905a89dbc1"
      },
      "source": [
        "print(\"Image Brands:\")\n",
        "analysis=[]\n",
        "for image in images:\n",
        "  result = client.analyze_image(baseUrl+image,[\"brands\"])\n",
        "  analysis.append(result)\n",
        "for i,result in enumerate(analysis):\n",
        "  try:\n",
        "    if(len(result.brands)==0):\n",
        "      print(\"No object detected\")\n",
        "    else:\n",
        "      print(\"\")\n",
        "      print(i)\n",
        "      for brand in result.brands:\n",
        "        print(brand.name)\n",
        "  \n",
        "        \n",
        "  except:\n",
        "    pass"
      ],
      "execution_count": 29,
      "outputs": [
        {
          "output_type": "stream",
          "text": [
            "Image Brands:\n",
            "No object detected\n",
            "No object detected\n",
            "No object detected\n",
            "No object detected\n",
            "\n",
            "4\n",
            "Microsoft\n",
            "McDonald's\n",
            "Target Corporation\n",
            "Coca-Cola\n",
            "UPS\n",
            "Amazon (company)\n",
            "\n",
            "5\n",
            "Nike\n",
            "Burger King\n",
            "Burger King\n",
            "BMW\n",
            "Google\n"
          ],
          "name": "stdout"
        }
      ]
    },
    {
      "cell_type": "code",
      "metadata": {
        "id": "0chqbs5K-7I1"
      },
      "source": [
        ""
      ],
      "execution_count": null,
      "outputs": []
    }
  ]
}