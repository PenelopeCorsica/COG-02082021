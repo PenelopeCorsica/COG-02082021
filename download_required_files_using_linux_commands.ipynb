{
 "cells": [
  {
   "cell_type": "code",
   "execution_count": 1,
   "metadata": {},
   "outputs": [
    {
     "name": "stdout",
     "output_type": "stream",
     "text": [
      "bye bye\n"
     ]
    }
   ],
   "source": [
    "print(\"bye bye\")"
   ]
  },
  {
   "cell_type": "code",
   "execution_count": 1,
   "metadata": {},
   "outputs": [
    {
     "name": "stdout",
     "output_type": "stream",
     "text": [
      "--2021-08-09 10:37:55--  https://github.com/a-forty-two/COG-02082021/archive/refs/heads/main.zip\n",
      "Resolving github.com (github.com)... 192.30.255.113\n",
      "Connecting to github.com (github.com)|192.30.255.113|:443... connected.\n",
      "HTTP request sent, awaiting response... 302 Found\n",
      "Location: https://codeload.github.com/a-forty-two/COG-02082021/zip/refs/heads/main [following]\n",
      "--2021-08-09 10:37:55--  https://codeload.github.com/a-forty-two/COG-02082021/zip/refs/heads/main\n",
      "Resolving codeload.github.com (codeload.github.com)... 192.30.255.120\n",
      "Connecting to codeload.github.com (codeload.github.com)|192.30.255.120|:443... connected.\n",
      "HTTP request sent, awaiting response... 200 OK\n",
      "Length: unspecified [application/zip]\n",
      "Saving to: ‘main.zip.2’\n",
      "\n",
      "main.zip.2              [ <=>                ]   1.61M  --.-KB/s    in 0.1s    \n",
      "\n",
      "2021-08-09 10:37:55 (15.0 MB/s) - ‘main.zip.2’ saved [1687112]\n",
      "\n",
      "COG-02082021-main  main.zip.1  random.ipynb\n",
      "main.zip\t   main.zip.2  random.ipynb.amltmp\n"
     ]
    }
   ],
   "source": [
    "!wget https://github.com/a-forty-two/COG-02082021/archive/refs/heads/main.zip\n",
    "!ls"
   ]
  },
  {
   "cell_type": "code",
   "execution_count": null,
   "metadata": {},
   "outputs": [
    {
     "name": "stdout",
     "output_type": "stream",
     "text": [
      "Archive:  main.zip\r\n",
      "b00c5bdc2e0506282e355608fff4a51dfa4aa3cc\r\n",
      "replace COG-02082021-main/BreastCancerAnalysis.ipynb? [y]es, [n]o, [A]ll, [N]one, [r]ename: "
     ]
    }
   ],
   "source": [
    "!unzip main.zip"
   ]
  },
  {
   "cell_type": "code",
   "execution_count": null,
   "metadata": {},
   "outputs": [],
   "source": []
  },
  {
   "cell_type": "code",
   "execution_count": null,
   "metadata": {},
   "outputs": [],
   "source": []
  }
 ],
 "metadata": {
  "kernel_info": {
   "name": "python3-azureml"
  },
  "kernelspec": {
   "display_name": "Python 3.6 - AzureML",
   "language": "python",
   "name": "python3-azureml"
  },
  "language_info": {
   "codemirror_mode": {
    "name": "ipython",
    "version": 3
   },
   "file_extension": ".py",
   "mimetype": "text/x-python",
   "name": "python",
   "nbconvert_exporter": "python",
   "pygments_lexer": "ipython3",
   "version": "3.6.9"
  },
  "nteract": {
   "version": "nteract-front-end@1.0.0"
  }
 },
 "nbformat": 4,
 "nbformat_minor": 2
}
