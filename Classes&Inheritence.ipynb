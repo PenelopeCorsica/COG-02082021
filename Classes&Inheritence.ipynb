{
  "nbformat": 4,
  "nbformat_minor": 0,
  "metadata": {
    "colab": {
      "name": "Classes&Inheritence.ipynb",
      "provenance": [],
      "authorship_tag": "ABX9TyNmPxs0reKfcZ7dTMQ50eRm",
      "include_colab_link": true
    },
    "kernelspec": {
      "name": "python3",
      "display_name": "Python 3"
    },
    "language_info": {
      "name": "python"
    }
  },
  "cells": [
    {
      "cell_type": "markdown",
      "metadata": {
        "id": "view-in-github",
        "colab_type": "text"
      },
      "source": [
        "<a href=\"https://colab.research.google.com/github/a-forty-two/COG-02082021/blob/main/Classes%26Inheritence.ipynb\" target=\"_parent\"><img src=\"https://colab.research.google.com/assets/colab-badge.svg\" alt=\"Open In Colab\"/></a>"
      ]
    },
    {
      "cell_type": "code",
      "metadata": {
        "id": "vqI-aYw5tYXk"
      },
      "source": [
        "class train:\n",
        "  x = 10"
      ],
      "execution_count": 1,
      "outputs": []
    },
    {
      "cell_type": "code",
      "metadata": {
        "colab": {
          "base_uri": "https://localhost:8080/"
        },
        "id": "7GYNeGgtt19A",
        "outputId": "988c5657-282c-43ef-c716-7949dccc9e60"
      },
      "source": [
        "p1 = train()\n",
        "print(p1.x)"
      ],
      "execution_count": 2,
      "outputs": [
        {
          "output_type": "stream",
          "name": "stdout",
          "text": [
            "10\n"
          ]
        }
      ]
    },
    {
      "cell_type": "code",
      "metadata": {
        "id": "CwfH4L5WuQLc"
      },
      "source": [
        "class Human:\n",
        "  def __init__(self,name, age):\n",
        "    self.name = name\n",
        "    self.age = age\n",
        "  "
      ],
      "execution_count": 3,
      "outputs": []
    },
    {
      "cell_type": "code",
      "metadata": {
        "colab": {
          "base_uri": "https://localhost:8080/"
        },
        "id": "O-yXQ3m1utXx",
        "outputId": "49bd85a4-8996-4777-c777-314501893fe7"
      },
      "source": [
        "p1 = Human(\"Shantanu\",36)\n",
        "\n",
        "print(p1.name)\n",
        "print(p1.age)"
      ],
      "execution_count": 5,
      "outputs": [
        {
          "output_type": "stream",
          "name": "stdout",
          "text": [
            "Shantanu\n",
            "36\n"
          ]
        }
      ]
    }
  ]
}