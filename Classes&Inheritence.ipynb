{
  "nbformat": 4,
  "nbformat_minor": 0,
  "metadata": {
    "colab": {
      "name": "Classes&Inheritence.ipynb",
      "provenance": [],
      "authorship_tag": "ABX9TyMQg+m/YBXP4kVV+Y/u8nXP",
      "include_colab_link": true
    },
    "kernelspec": {
      "name": "python3",
      "display_name": "Python 3"
    },
    "language_info": {
      "name": "python"
    }
  },
  "cells": [
    {
      "cell_type": "markdown",
      "metadata": {
        "id": "view-in-github",
        "colab_type": "text"
      },
      "source": [
        "<a href=\"https://colab.research.google.com/github/a-forty-two/COG-02082021/blob/main/Classes%26Inheritence.ipynb\" target=\"_parent\"><img src=\"https://colab.research.google.com/assets/colab-badge.svg\" alt=\"Open In Colab\"/></a>"
      ]
    },
    {
      "cell_type": "code",
      "metadata": {
        "id": "vqI-aYw5tYXk"
      },
      "source": [
        "class train:\n",
        "  x = 10"
      ],
      "execution_count": 1,
      "outputs": []
    },
    {
      "cell_type": "code",
      "metadata": {
        "colab": {
          "base_uri": "https://localhost:8080/"
        },
        "id": "7GYNeGgtt19A",
        "outputId": "988c5657-282c-43ef-c716-7949dccc9e60"
      },
      "source": [
        "p1 = train()\n",
        "print(p1.x)"
      ],
      "execution_count": 2,
      "outputs": [
        {
          "output_type": "stream",
          "name": "stdout",
          "text": [
            "10\n"
          ]
        }
      ]
    },
    {
      "cell_type": "code",
      "metadata": {
        "id": "CwfH4L5WuQLc"
      },
      "source": [
        "class Human:\n",
        "  def __init__(self,name, age):\n",
        "    self.name = name\n",
        "    self.age = age\n",
        "  "
      ],
      "execution_count": 3,
      "outputs": []
    },
    {
      "cell_type": "code",
      "metadata": {
        "colab": {
          "base_uri": "https://localhost:8080/"
        },
        "id": "O-yXQ3m1utXx",
        "outputId": "49bd85a4-8996-4777-c777-314501893fe7"
      },
      "source": [
        "p1 = Human(\"Shantanu\",36)\n",
        "\n",
        "print(p1.name)\n",
        "print(p1.age)"
      ],
      "execution_count": 5,
      "outputs": [
        {
          "output_type": "stream",
          "name": "stdout",
          "text": [
            "Shantanu\n",
            "36\n"
          ]
        }
      ]
    },
    {
      "cell_type": "code",
      "metadata": {
        "id": "h-VqVNPavW20"
      },
      "source": [
        "class HumanBeings:\n",
        "  def __init__(jungle,name, age):\n",
        "    jungle.name = name\n",
        "    jungle.age = age\n",
        "\n",
        "  def describeme(jungle):\n",
        "    print(\"Hola, My name is \"+ jungle.name+ \" and my age is \"+jungle.age)"
      ],
      "execution_count": 18,
      "outputs": []
    },
    {
      "cell_type": "code",
      "metadata": {
        "colab": {
          "base_uri": "https://localhost:8080/"
        },
        "id": "neO7cXelwEb5",
        "outputId": "03dc240b-e3ad-483a-dfe8-05ef6db0b4e0"
      },
      "source": [
        "p1 = HumanBeings(\"Shantanu\",\"Too old\")\n",
        "p1.describeme()"
      ],
      "execution_count": 9,
      "outputs": [
        {
          "output_type": "stream",
          "name": "stdout",
          "text": [
            "Hola, My name is Shantanu and my age is Too old\n"
          ]
        }
      ]
    },
    {
      "cell_type": "code",
      "metadata": {
        "colab": {
          "base_uri": "https://localhost:8080/"
        },
        "id": "q7iTd2WIwpqX",
        "outputId": "be44cdb7-de7b-4574-d43b-e799e3fab5e0"
      },
      "source": [
        "p1.age = 'younger now'\n",
        "p1.describeme()\n"
      ],
      "execution_count": 11,
      "outputs": [
        {
          "output_type": "stream",
          "name": "stdout",
          "text": [
            "Hola, My name is Shantanu and my age is younger now\n"
          ]
        }
      ]
    },
    {
      "cell_type": "code",
      "metadata": {
        "id": "kv-tW5rexANV"
      },
      "source": [
        "del p1\n",
        "x = int(1);"
      ],
      "execution_count": 13,
      "outputs": []
    },
    {
      "cell_type": "code",
      "metadata": {
        "id": "6NySZhaUx1JU"
      },
      "source": [
        "class training:\n",
        "  def __init__(trainer,name,level):\n",
        "    trainer.name =name\n",
        "    trainer.level =level\n",
        "\n",
        "  def printo(trainer):\n",
        "    print(\"Welcome all, My name is \"+ trainer.name)\n",
        "    print(\"I am at \"+str(trainer.level)+ \" level of training\")\n"
      ],
      "execution_count": 16,
      "outputs": []
    },
    {
      "cell_type": "code",
      "metadata": {
        "colab": {
          "base_uri": "https://localhost:8080/"
        },
        "id": "_eBDi6x2yrwM",
        "outputId": "4260fe0f-a8e7-4eb4-bf57-53bf1c951e2e"
      },
      "source": [
        "p1 = training(\"Shantanu\", 20)\n",
        "p1.printo()"
      ],
      "execution_count": 17,
      "outputs": [
        {
          "output_type": "stream",
          "name": "stdout",
          "text": [
            "Welcome all, My name is Shantanu\n",
            "I am at 20 level of training\n"
          ]
        }
      ]
    },
    {
      "cell_type": "code",
      "metadata": {
        "id": "WmH1T7e8zPgx"
      },
      "source": [
        "class Humans:\n",
        "  def __init__(jungle,name, age):\n",
        "    jungle.name = name\n",
        "    jungle.age = age\n",
        "\n",
        "  def describeme(jungle):\n",
        "    print(jungle.name,jungle.age)\n",
        "\n",
        "class Student(Humans):\n",
        "  pass"
      ],
      "execution_count": 19,
      "outputs": []
    },
    {
      "cell_type": "code",
      "metadata": {
        "colab": {
          "base_uri": "https://localhost:8080/"
        },
        "id": "YclkQmrazkj7",
        "outputId": "579351c6-aade-40fb-c242-1e71f57b6a91"
      },
      "source": [
        "x = Student(\"Shantanu\",\"66\")\n",
        "x.describeme()"
      ],
      "execution_count": 20,
      "outputs": [
        {
          "output_type": "stream",
          "name": "stdout",
          "text": [
            "Shantanu 66\n"
          ]
        }
      ]
    }
  ]
}