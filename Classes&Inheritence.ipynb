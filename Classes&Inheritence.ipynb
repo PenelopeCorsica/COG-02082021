{
  "nbformat": 4,
  "nbformat_minor": 0,
  "metadata": {
    "colab": {
      "name": "Classes&Inheritence.ipynb",
      "provenance": [],
      "collapsed_sections": [],
      "authorship_tag": "ABX9TyO3X03QewGUWjgpve4RTFtB",
      "include_colab_link": true
    },
    "kernelspec": {
      "name": "python3",
      "display_name": "Python 3"
    },
    "language_info": {
      "name": "python"
    }
  },
  "cells": [
    {
      "cell_type": "markdown",
      "metadata": {
        "id": "view-in-github",
        "colab_type": "text"
      },
      "source": [
        "<a href=\"https://colab.research.google.com/github/a-forty-two/COG-02082021/blob/main/Classes%26Inheritence.ipynb\" target=\"_parent\"><img src=\"https://colab.research.google.com/assets/colab-badge.svg\" alt=\"Open In Colab\"/></a>"
      ]
    },
    {
      "cell_type": "code",
      "metadata": {
        "id": "vqI-aYw5tYXk"
      },
      "source": [
        "class train:\n",
        "  x = 10"
      ],
      "execution_count": 1,
      "outputs": []
    },
    {
      "cell_type": "code",
      "metadata": {
        "colab": {
          "base_uri": "https://localhost:8080/"
        },
        "id": "7GYNeGgtt19A",
        "outputId": "988c5657-282c-43ef-c716-7949dccc9e60"
      },
      "source": [
        "p1 = train()\n",
        "print(p1.x)"
      ],
      "execution_count": 2,
      "outputs": [
        {
          "output_type": "stream",
          "name": "stdout",
          "text": [
            "10\n"
          ]
        }
      ]
    },
    {
      "cell_type": "code",
      "metadata": {
        "id": "CwfH4L5WuQLc"
      },
      "source": [
        "class Human:\n",
        "  def __init__(self,name, age):\n",
        "    self.name = name\n",
        "    self.age = age\n",
        "  "
      ],
      "execution_count": 3,
      "outputs": []
    },
    {
      "cell_type": "code",
      "metadata": {
        "colab": {
          "base_uri": "https://localhost:8080/"
        },
        "id": "O-yXQ3m1utXx",
        "outputId": "49bd85a4-8996-4777-c777-314501893fe7"
      },
      "source": [
        "p1 = Human(\"Shantanu\",36)\n",
        "\n",
        "print(p1.name)\n",
        "print(p1.age)"
      ],
      "execution_count": 5,
      "outputs": [
        {
          "output_type": "stream",
          "name": "stdout",
          "text": [
            "Shantanu\n",
            "36\n"
          ]
        }
      ]
    },
    {
      "cell_type": "code",
      "metadata": {
        "id": "h-VqVNPavW20"
      },
      "source": [
        "class HumanBeings:\n",
        "  def __init__(jungle,name, age):\n",
        "    jungle.name = name\n",
        "    jungle.age = age\n",
        "\n",
        "  def describeme(jungle):\n",
        "    print(\"Hola, My name is \"+ jungle.name+ \" and my age is \"+jungle.age)"
      ],
      "execution_count": 18,
      "outputs": []
    },
    {
      "cell_type": "code",
      "metadata": {
        "colab": {
          "base_uri": "https://localhost:8080/"
        },
        "id": "neO7cXelwEb5",
        "outputId": "03dc240b-e3ad-483a-dfe8-05ef6db0b4e0"
      },
      "source": [
        "p1 = HumanBeings(\"Shantanu\",\"Too old\")\n",
        "p1.describeme()"
      ],
      "execution_count": 9,
      "outputs": [
        {
          "output_type": "stream",
          "name": "stdout",
          "text": [
            "Hola, My name is Shantanu and my age is Too old\n"
          ]
        }
      ]
    },
    {
      "cell_type": "code",
      "metadata": {
        "colab": {
          "base_uri": "https://localhost:8080/"
        },
        "id": "q7iTd2WIwpqX",
        "outputId": "be44cdb7-de7b-4574-d43b-e799e3fab5e0"
      },
      "source": [
        "p1.age = 'younger now'\n",
        "p1.describeme()\n"
      ],
      "execution_count": 11,
      "outputs": [
        {
          "output_type": "stream",
          "name": "stdout",
          "text": [
            "Hola, My name is Shantanu and my age is younger now\n"
          ]
        }
      ]
    },
    {
      "cell_type": "code",
      "metadata": {
        "id": "kv-tW5rexANV"
      },
      "source": [
        "del p1\n",
        "x = int(1);"
      ],
      "execution_count": 13,
      "outputs": []
    },
    {
      "cell_type": "code",
      "metadata": {
        "id": "6NySZhaUx1JU"
      },
      "source": [
        "class training:\n",
        "  def __init__(trainer,name,level):\n",
        "    trainer.name =name\n",
        "    trainer.level =level\n",
        "\n",
        "  def printo(trainer):\n",
        "    print(\"Welcome all, My name is \"+ trainer.name)\n",
        "    print(\"I am at \"+str(trainer.level)+ \" level of training\")\n"
      ],
      "execution_count": 16,
      "outputs": []
    },
    {
      "cell_type": "code",
      "metadata": {
        "colab": {
          "base_uri": "https://localhost:8080/"
        },
        "id": "_eBDi6x2yrwM",
        "outputId": "4260fe0f-a8e7-4eb4-bf57-53bf1c951e2e"
      },
      "source": [
        "p1 = training(\"Shantanu\", 20)\n",
        "p1.printo()"
      ],
      "execution_count": 17,
      "outputs": [
        {
          "output_type": "stream",
          "name": "stdout",
          "text": [
            "Welcome all, My name is Shantanu\n",
            "I am at 20 level of training\n"
          ]
        }
      ]
    },
    {
      "cell_type": "code",
      "metadata": {
        "id": "WmH1T7e8zPgx"
      },
      "source": [
        "class Humans:\n",
        "  def __init__(jungle,name, age):\n",
        "    jungle.name = name\n",
        "    jungle.age = age\n",
        "\n",
        "  def describeme(jungle):\n",
        "    print(jungle.name,jungle.age)\n",
        "\n",
        "class Student(Humans):\n",
        "  pass"
      ],
      "execution_count": 19,
      "outputs": []
    },
    {
      "cell_type": "code",
      "metadata": {
        "colab": {
          "base_uri": "https://localhost:8080/"
        },
        "id": "YclkQmrazkj7",
        "outputId": "579351c6-aade-40fb-c242-1e71f57b6a91"
      },
      "source": [
        "x = Student(\"Shantanu\",\"66\")\n",
        "x.describeme()"
      ],
      "execution_count": 20,
      "outputs": [
        {
          "output_type": "stream",
          "name": "stdout",
          "text": [
            "Shantanu 66\n"
          ]
        }
      ]
    },
    {
      "cell_type": "code",
      "metadata": {
        "id": "8E56GScf1KOl"
      },
      "source": [
        "class Humans:\n",
        "  def __init__(jungle,name, age):\n",
        "    jungle.name = name\n",
        "    jungle.age = age\n",
        "\n",
        "  def describeme(jungle):\n",
        "    print(jungle.name,jungle.age)\n",
        "\n",
        "class Student(Humans):\n",
        "  def __init__(jungle,aname, aage):\n",
        "    jungle.aname = aname\n",
        "    jungle.aage = aage"
      ],
      "execution_count": 21,
      "outputs": []
    },
    {
      "cell_type": "code",
      "metadata": {
        "colab": {
          "base_uri": "https://localhost:8080/",
          "height": 321
        },
        "id": "zsj-QU_M1aoh",
        "outputId": "8d4775ff-a4dd-46c8-b60f-9a4b30ff3aef"
      },
      "source": [
        "x = Student(\"Shantanu\",\"66\")\n",
        "x.describeme()"
      ],
      "execution_count": 22,
      "outputs": [
        {
          "output_type": "error",
          "ename": "AttributeError",
          "evalue": "ignored",
          "traceback": [
            "\u001b[0;31m---------------------------------------------------------------------------\u001b[0m",
            "\u001b[0;31mAttributeError\u001b[0m                            Traceback (most recent call last)",
            "\u001b[0;32m<ipython-input-22-e3d2600fdb1e>\u001b[0m in \u001b[0;36m<module>\u001b[0;34m()\u001b[0m\n\u001b[1;32m      1\u001b[0m \u001b[0mx\u001b[0m \u001b[0;34m=\u001b[0m \u001b[0mStudent\u001b[0m\u001b[0;34m(\u001b[0m\u001b[0;34m\"Shantanu\"\u001b[0m\u001b[0;34m,\u001b[0m\u001b[0;34m\"66\"\u001b[0m\u001b[0;34m)\u001b[0m\u001b[0;34m\u001b[0m\u001b[0;34m\u001b[0m\u001b[0m\n\u001b[0;32m----> 2\u001b[0;31m \u001b[0mx\u001b[0m\u001b[0;34m.\u001b[0m\u001b[0mdescribeme\u001b[0m\u001b[0;34m(\u001b[0m\u001b[0;34m)\u001b[0m\u001b[0;34m\u001b[0m\u001b[0;34m\u001b[0m\u001b[0m\n\u001b[0m",
            "\u001b[0;32m<ipython-input-21-e436062adb94>\u001b[0m in \u001b[0;36mdescribeme\u001b[0;34m(jungle)\u001b[0m\n\u001b[1;32m      5\u001b[0m \u001b[0;34m\u001b[0m\u001b[0m\n\u001b[1;32m      6\u001b[0m   \u001b[0;32mdef\u001b[0m \u001b[0mdescribeme\u001b[0m\u001b[0;34m(\u001b[0m\u001b[0mjungle\u001b[0m\u001b[0;34m)\u001b[0m\u001b[0;34m:\u001b[0m\u001b[0;34m\u001b[0m\u001b[0;34m\u001b[0m\u001b[0m\n\u001b[0;32m----> 7\u001b[0;31m     \u001b[0mprint\u001b[0m\u001b[0;34m(\u001b[0m\u001b[0mjungle\u001b[0m\u001b[0;34m.\u001b[0m\u001b[0mname\u001b[0m\u001b[0;34m,\u001b[0m\u001b[0mjungle\u001b[0m\u001b[0;34m.\u001b[0m\u001b[0mage\u001b[0m\u001b[0;34m)\u001b[0m\u001b[0;34m\u001b[0m\u001b[0;34m\u001b[0m\u001b[0m\n\u001b[0m\u001b[1;32m      8\u001b[0m \u001b[0;34m\u001b[0m\u001b[0m\n\u001b[1;32m      9\u001b[0m \u001b[0;32mclass\u001b[0m \u001b[0mStudent\u001b[0m\u001b[0;34m(\u001b[0m\u001b[0mHumans\u001b[0m\u001b[0;34m)\u001b[0m\u001b[0;34m:\u001b[0m\u001b[0;34m\u001b[0m\u001b[0;34m\u001b[0m\u001b[0m\n",
            "\u001b[0;31mAttributeError\u001b[0m: 'Student' object has no attribute 'name'"
          ]
        }
      ]
    },
    {
      "cell_type": "code",
      "metadata": {
        "id": "uuKDBjHJ1qBq"
      },
      "source": [
        "class Humans:\n",
        "  def __init__(jungle,name, age):\n",
        "    jungle.name = name\n",
        "    jungle.age = age\n",
        "\n",
        "  def describeme(jungle):\n",
        "    print(jungle.name,jungle.age)\n",
        "\n",
        "class Student(Humans):\n",
        "  def __init__(jungle,name, age):\n",
        "    Humans.__init__(jungle,name, age)"
      ],
      "execution_count": 23,
      "outputs": []
    },
    {
      "cell_type": "code",
      "metadata": {
        "colab": {
          "base_uri": "https://localhost:8080/"
        },
        "id": "4fYN7O0-1_Ww",
        "outputId": "9d4c2733-9693-4a75-becb-0633aa66a7d4"
      },
      "source": [
        "x = Student(\"Shantanu\",\"66\")\n",
        "x.describeme()"
      ],
      "execution_count": 24,
      "outputs": [
        {
          "output_type": "stream",
          "name": "stdout",
          "text": [
            "Shantanu 66\n"
          ]
        }
      ]
    },
    {
      "cell_type": "code",
      "metadata": {
        "id": "VPHXtHx12iNL"
      },
      "source": [
        "class Humans:\n",
        "  def __init__(jungle,name, age):\n",
        "    jungle.name = name\n",
        "    jungle.age = age\n",
        "\n",
        "  def describeme(jungle):\n",
        "    print(jungle.name,jungle.age)\n",
        "\n",
        "class Student(Humans):\n",
        "  def __init__(jungle,name, age):\n",
        "    super().__init__(name, age)"
      ],
      "execution_count": 27,
      "outputs": []
    },
    {
      "cell_type": "code",
      "metadata": {
        "colab": {
          "base_uri": "https://localhost:8080/"
        },
        "id": "OqWNbKLI2qmD",
        "outputId": "db323fc6-e1ac-41df-8e1e-3e00467829a9"
      },
      "source": [
        "x = Student(\"Shantanu\",\"66\")\n",
        "x.describeme()"
      ],
      "execution_count": 28,
      "outputs": [
        {
          "output_type": "stream",
          "name": "stdout",
          "text": [
            "Shantanu 66\n"
          ]
        }
      ]
    },
    {
      "cell_type": "code",
      "metadata": {
        "id": "5ZxELB3Q2-W3"
      },
      "source": [
        "class Humans:\n",
        "  def __init__(jungle,name, age):\n",
        "    jungle.name = name\n",
        "    jungle.age = age\n",
        "\n",
        "  def describeme(jungle):\n",
        "    print(jungle.name,jungle.age)\n",
        "\n",
        "class Student(Humans):\n",
        "  def __init__(jungle,name, age, year):\n",
        "    super().__init__(name, age)\n",
        "    jungle.graduationyear = year\n",
        "  "
      ],
      "execution_count": 32,
      "outputs": []
    },
    {
      "cell_type": "code",
      "metadata": {
        "colab": {
          "base_uri": "https://localhost:8080/"
        },
        "id": "M-NERI9X3aTe",
        "outputId": "8fa69bb1-1b03-4d69-ee31-96e0041c334d"
      },
      "source": [
        "x = Student(\"Shantanu\",\"66\",1990)\n",
        "print(x.graduationyear)"
      ],
      "execution_count": 33,
      "outputs": [
        {
          "output_type": "stream",
          "name": "stdout",
          "text": [
            "1990\n"
          ]
        }
      ]
    },
    {
      "cell_type": "code",
      "metadata": {
        "id": "7LEXCSCw3pq2"
      },
      "source": [
        "class Employee:\n",
        "  def __init__(self , id, name):\n",
        "    self.id = id\n",
        "    self.name = name"
      ],
      "execution_count": 34,
      "outputs": []
    },
    {
      "cell_type": "code",
      "metadata": {
        "id": "sOspieMa56rE"
      },
      "source": [
        "class PayrollSystem:\n",
        "  def calculate_payroll(self,employees):\n",
        "    print(\"Calculating the payroll\")\n",
        "    for employee in employees:\n",
        "      print(f'Payroll for :{employee.id} - {employee.name}')\n",
        "      print(f'Check amount:{employee.calculate_payroll()}')\n",
        "      print('')\n"
      ],
      "execution_count": 36,
      "outputs": []
    },
    {
      "cell_type": "code",
      "metadata": {
        "id": "P6T288-V7ERs"
      },
      "source": [
        "class SalaryEmployee(Employee):\n",
        "  def __init__(self, id,name, weekly_salary):\n",
        "    super().__init__(id,name)\n",
        "    self.weekly_salary= weekly_salary\n",
        "\n",
        "  def calculate_payroll(self):\n",
        "    return self.weekly_salary"
      ],
      "execution_count": 37,
      "outputs": []
    },
    {
      "cell_type": "code",
      "metadata": {
        "id": "bw-x13pV7veT"
      },
      "source": [
        "class HourlyEmployee(Employee):\n",
        "  def __init__(self, id,name, hours_worked,hour_rate):\n",
        "    super().__init__(id,name)\n",
        "    self.hours_worked= hours_worked\n",
        "    self.hour_rate= hour_rate\n",
        "\n",
        "  def calculate_payroll(self):\n",
        "    return self.hours_worked* self.hour_rate"
      ],
      "execution_count": 39,
      "outputs": []
    },
    {
      "cell_type": "code",
      "metadata": {
        "id": "G0OgRJX78fOs"
      },
      "source": [
        "class CommissionEmployee(SalaryEmployee):\n",
        "  def __init__(self, id,name, weekly_salary,commission):\n",
        "    super().__init__(id,name,weekly_salary)\n",
        "    self.commission= commission\n",
        "\n",
        "  def calculate_payroll(self):\n",
        "    fixed = super().calculate_payroll()\n",
        "    return fixed + self.commission"
      ],
      "execution_count": 47,
      "outputs": []
    },
    {
      "cell_type": "code",
      "metadata": {
        "id": "RvInFh329A-t"
      },
      "source": [
        "salary_employee = SalaryEmployee(1,'Pikachu',1500)\n",
        "hourly_employee = HourlyEmployee(2,'Hannah',15,40)\n",
        "commission_employee = CommissionEmployee(3,'Josh',1500,500)"
      ],
      "execution_count": 51,
      "outputs": []
    },
    {
      "cell_type": "code",
      "metadata": {
        "colab": {
          "base_uri": "https://localhost:8080/"
        },
        "id": "tJXu56_W-OnK",
        "outputId": "d1bc0121-bf5d-44b1-fcff-b53ee6f5eb51"
      },
      "source": [
        "payroll_system= PayrollSystem()\n",
        "payroll_system.calculate_payroll([\n",
        "                                  salary_employee,\n",
        "                                  hourly_employee,\n",
        "                                  commission_employee\n",
        "])"
      ],
      "execution_count": 52,
      "outputs": [
        {
          "output_type": "stream",
          "name": "stdout",
          "text": [
            "Calculating the payroll\n",
            "Payroll for :1 - Pikachu\n",
            "Check amount:1500\n",
            "\n",
            "Payroll for :2 - Hannah\n",
            "Check amount:600\n",
            "\n",
            "Payroll for :3 - Josh\n",
            "Check amount:2000\n",
            "\n"
          ]
        }
      ]
    },
    {
      "cell_type": "code",
      "metadata": {
        "id": "-px4SeWN-o9q"
      },
      "source": [
        "class Manager(SalaryEmployee):\n",
        "  def work(self,hours):\n",
        "    print(f'{self.name} spends most of the {hours} hours  managing the employees and sprints')\n",
        "\n",
        "\n",
        "class Secretary(SalaryEmployee):\n",
        "  def work(self,hours):\n",
        "    print(f'{self.name} spends  {hours} hours  answering personal phonecalls')\n",
        "\n",
        "\n",
        "class SalesPerson(CommissionEmployee):\n",
        "  def work(self,hours):\n",
        "    print(f'{self.name} spends {hours} hours  on company phone for making sales')\n",
        "\n",
        "class FactoryWorker(HourlyEmployee):\n",
        "  def work(self,hours):\n",
        "    print(f'{self.name} works hard  for {hours} hours and still paid the least')"
      ],
      "execution_count": 53,
      "outputs": []
    },
    {
      "cell_type": "code",
      "metadata": {
        "id": "QIRNJMogDlfe"
      },
      "source": [
        "class ProductivitySystem:\n",
        "  def track(self,employees, hours):\n",
        "    print(\"Tracking the Employee Productivity\")\n",
        "    for employee in employees:\n",
        "      employee.work(hours)\n",
        "    print('')"
      ],
      "execution_count": 54,
      "outputs": []
    },
    {
      "cell_type": "code",
      "metadata": {
        "colab": {
          "base_uri": "https://localhost:8080/"
        },
        "id": "Z9EnOcJHEFzB",
        "outputId": "4db98fc1-59c9-409b-951b-064fbe794e1f"
      },
      "source": [
        "manager = Manager(1,'shantanu',3000)\n",
        "secretary = Secretary(2,'Jojo',1500)\n",
        "sales_person = SalesPerson(3,'Ashoka',900,250)\n",
        "factory_worker =FactoryWorker(4,'Bheema',40,20)\n",
        "\n",
        "employees=[\n",
        "           manager,\n",
        "           secretary,\n",
        "           sales_person,\n",
        "           factory_worker\n",
        "]\n",
        "\n",
        "productivity_system = ProductivitySystem()\n",
        "productivity_system.track(employees,40)"
      ],
      "execution_count": 56,
      "outputs": [
        {
          "output_type": "stream",
          "name": "stdout",
          "text": [
            "Tracking the Employee Productivity\n",
            "shantanu spends most of the 40 hours  managing the employees and sprints\n",
            "Jojo spends  40 hours  answering personal phonecalls\n",
            "Ashoka spends 40 hours  on company phone for making sales\n",
            "Bheema works hard  for 40 hours and still paid the least\n",
            "\n"
          ]
        }
      ]
    }
  ]
}